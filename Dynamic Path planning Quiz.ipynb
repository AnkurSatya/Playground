{
 "cells": [
  {
   "cell_type": "code",
   "execution_count": 1,
   "metadata": {},
   "outputs": [
    {
     "name": "stdout",
     "output_type": "stream",
     "text": [
      "[['v', ' ', '>', '>', '>', 'v'], ['v', ' ', '^', ' ', ' ', 'v'], ['v', ' ', '^', ' ', ' ', 'v'], ['v', ' ', '^', ' ', ' ', 'v'], ['>', '>', '^', ' ', '>', '*']]\n"
     ]
    }
   ],
   "source": [
    "grid = [[0, 1, 0, 0, 0, 0],\n",
    "        [0, 1, 0, 1, 1, 0],\n",
    "        [0, 1, 0, 1, 1, 0],\n",
    "        [0, 1, 0, 1, 1, 0],\n",
    "        [0, 0, 0, 1, 0, 0]]\n",
    "init = [0, 0]\n",
    "goal = [len(grid)-1, len(grid[0])-1]\n",
    "cost = 1 # the cost associated with moving from a cell to an adjacent one\n",
    "\n",
    "delta = [[-1, 0 ], # go up\n",
    "         [ 0, -1], # go left\n",
    "         [ 1, 0 ], # go down\n",
    "         [ 0, 1 ]] # go right\n",
    "\n",
    "delta_name = ['^', '<', 'v', '>']\n",
    "\n",
    "def optimum_policy(grid,goal,cost):\n",
    "    # ----------------------------------------\n",
    "    # modify code below\n",
    "    # ----------------------------------------\n",
    "    value = [[99 for col in range(len(grid[0]))] for row in range(len(grid))]\n",
    "    closed_nodes = [[0 for col in range(len(grid[0]))] for row in range(len(grid))]\n",
    "    in_the_list = [[0 for col in range(len(grid[0]))] for row in range(len(grid))]\n",
    "    policy = [[' ' for col in range(len(grid[0]))] for row in range(len(grid))]\n",
    "    \n",
    "    x = goal[0]\n",
    "    y = goal[1]\n",
    "    policy[x][y] = '*'\n",
    "    \n",
    "    cur_nodes = [[goal[0], goal[1]]]\n",
    "    in_the_list[x][y] = 1\n",
    "    value[x][y] = 0\n",
    "    change = True\n",
    "\n",
    "    while(change or len(cur_nodes)):\n",
    "        change = False\n",
    "\n",
    "        if(len(cur_nodes)):\n",
    "            x = cur_nodes[0][0]\n",
    "            y = cur_nodes[0][1]\n",
    "            cur_nodes.pop(0)\n",
    "            in_the_list[x][y] = 0\n",
    "            closed_nodes[x][y] = 1\n",
    "\n",
    "            for i in range(4):\n",
    "                x_n = x + delta[i][0]\n",
    "                y_n = y + delta[i][1]\n",
    "                temp_change = False\n",
    "                \n",
    "                if(x_n >= 0 and x_n < len(grid) and y_n >= 0 and y_n<len(grid[0])):\n",
    "                    if(closed_nodes[x_n][y_n] == 0 and [x_n,y_n] and in_the_list[x_n][y_n] == 0 and grid[x_n][y_n] != 1):\n",
    "                        cur_nodes.append([x_n, y_n])\n",
    "                        value[x_n][y_n] = value[x][y] + cost\n",
    "                        policy[x_n][y_n] = delta_name[(i+2)%len(delta_name)]\n",
    "                        in_the_list[x_n][y_n] = 1\n",
    "                        temp_change = True\n",
    "\n",
    "                    elif(grid[x_n][y_n] == 1 and closed_nodes[x_n][y_n] == 0):\n",
    "                        closed_nodes[x_n][y_n] = 1\n",
    "                        temp_change = False\n",
    "\n",
    "                change = (change or temp_change)\n",
    "    return policy\n",
    "    \n",
    "policy = optimum_policy(grid,goal,cost)\n",
    "print(policy)"
   ]
  },
  {
   "cell_type": "code",
   "execution_count": null,
   "metadata": {},
   "outputs": [],
   "source": []
  }
 ],
 "metadata": {
  "kernelspec": {
   "display_name": "Python 3",
   "language": "python",
   "name": "python3"
  },
  "language_info": {
   "codemirror_mode": {
    "name": "ipython",
    "version": 3
   },
   "file_extension": ".py",
   "mimetype": "text/x-python",
   "name": "python",
   "nbconvert_exporter": "python",
   "pygments_lexer": "ipython3",
   "version": "3.6.4"
  }
 },
 "nbformat": 4,
 "nbformat_minor": 2
}
